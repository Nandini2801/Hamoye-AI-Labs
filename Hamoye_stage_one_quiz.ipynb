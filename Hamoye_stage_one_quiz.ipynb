{
  "nbformat": 4,
  "nbformat_minor": 0,
  "metadata": {
    "colab": {
      "name": "Hamoye stage one_quiz.ipynb",
      "provenance": [],
      "authorship_tag": "ABX9TyMtUi/1fEe+ygrH8qQXdCFo",
      "include_colab_link": true
    },
    "kernelspec": {
      "name": "python3",
      "display_name": "Python 3"
    },
    "language_info": {
      "name": "python"
    }
  },
  "cells": [
    {
      "cell_type": "markdown",
      "metadata": {
        "id": "view-in-github",
        "colab_type": "text"
      },
      "source": [
        "<a href=\"https://colab.research.google.com/github/Nandini2801/Hamoye-AI-Labs/blob/main/Hamoye_stage_one_quiz.ipynb\" target=\"_parent\"><img src=\"https://colab.research.google.com/assets/colab-badge.svg\" alt=\"Open In Colab\"/></a>"
      ]
    },
    {
      "cell_type": "code",
      "metadata": {
        "id": "A6Sq6LSEpWn7"
      },
      "source": [
        "#Hamoye Stage A quiz"
      ],
      "execution_count": null,
      "outputs": []
    },
    {
      "cell_type": "code",
      "metadata": {
        "colab": {
          "base_uri": "https://localhost:8080/"
        },
        "id": "g1h5pD5QphDO",
        "outputId": "cd970be1-b965-4896-8565-51054c86fea8"
      },
      "source": [
        "!wget -O data.csv https://raw.githubusercontent.com/WalePhenomenon/climate_change/master/fuel_ferc1.csv"
      ],
      "execution_count": null,
      "outputs": [
        {
          "output_type": "stream",
          "text": [
            "--2021-08-24 05:33:54--  https://raw.githubusercontent.com/WalePhenomenon/climate_change/master/fuel_ferc1.csv\n",
            "Resolving raw.githubusercontent.com (raw.githubusercontent.com)... 185.199.108.133, 185.199.109.133, 185.199.110.133, ...\n",
            "Connecting to raw.githubusercontent.com (raw.githubusercontent.com)|185.199.108.133|:443... connected.\n",
            "HTTP request sent, awaiting response... 200 OK\n",
            "Length: 2649320 (2.5M) [text/plain]\n",
            "Saving to: ‘data.csv’\n",
            "\n",
            "data.csv            100%[===================>]   2.53M  --.-KB/s    in 0.07s   \n",
            "\n",
            "2021-08-24 05:33:54 (37.7 MB/s) - ‘data.csv’ saved [2649320/2649320]\n",
            "\n"
          ],
          "name": "stdout"
        }
      ]
    },
    {
      "cell_type": "code",
      "metadata": {
        "id": "1hotd95Npqdo"
      },
      "source": [
        "import numpy as np\n",
        "import pandas as pd\n",
        "import matplotlib.pyplot as plt\n",
        "import seaborn as sns"
      ],
      "execution_count": null,
      "outputs": []
    },
    {
      "cell_type": "code",
      "metadata": {
        "id": "s4_MkjpWqdaz"
      },
      "source": [
        "#Question 1 is A.extend(B)\n",
        "#please find the solution below\n",
        "\n",
        "A = [1,2,3,4,5,6]\n",
        "B = [13, 21, 34]"
      ],
      "execution_count": null,
      "outputs": []
    },
    {
      "cell_type": "code",
      "metadata": {
        "id": "EXvo88KMqnWi"
      },
      "source": [
        "A.extend(B)"
      ],
      "execution_count": null,
      "outputs": []
    },
    {
      "cell_type": "code",
      "metadata": {
        "id": "-AnBHiZdqppI"
      },
      "source": [
        "A_B = A"
      ],
      "execution_count": null,
      "outputs": []
    },
    {
      "cell_type": "code",
      "metadata": {
        "colab": {
          "base_uri": "https://localhost:8080/"
        },
        "id": "0pDNvFb1qxPv",
        "outputId": "c4240d07-5da6-47ce-a94f-4344e76de4f3"
      },
      "source": [
        "A_B\n"
      ],
      "execution_count": null,
      "outputs": [
        {
          "output_type": "execute_result",
          "data": {
            "text/plain": [
              "[1, 2, 3, 4, 5, 6, 13, 21, 34]"
            ]
          },
          "metadata": {},
          "execution_count": 10
        }
      ]
    },
    {
      "cell_type": "code",
      "metadata": {
        "colab": {
          "base_uri": "https://localhost:8080/"
        },
        "id": "P5UPd_cOq1Q7",
        "outputId": "2b279481-d831-4fe8-b86a-ef68415533d8"
      },
      "source": [
        "#Answer to question 2 is np.identity(3)\n",
        "#please find the solution below\n",
        "\n",
        "np.identity(3)"
      ],
      "execution_count": null,
      "outputs": [
        {
          "output_type": "execute_result",
          "data": {
            "text/plain": [
              "array([[1., 0., 0.],\n",
              "       [0., 1., 0.],\n",
              "       [0., 0., 1.]])"
            ]
          },
          "metadata": {},
          "execution_count": 11
        }
      ]
    },
    {
      "cell_type": "code",
      "metadata": {
        "id": "byFu0kZOpt0L"
      },
      "source": [
        "fuel_data = pd.read_csv('data.csv')"
      ],
      "execution_count": null,
      "outputs": []
    },
    {
      "cell_type": "code",
      "metadata": {
        "colab": {
          "base_uri": "https://localhost:8080/",
          "height": 456
        },
        "id": "iOEL4lOlpyDh",
        "outputId": "329b2a02-a8a4-4d37-b423-b4ac69ce6670"
      },
      "source": [
        "fuel_data"
      ],
      "execution_count": null,
      "outputs": [
        {
          "output_type": "execute_result",
          "data": {
            "text/html": [
              "<div>\n",
              "<style scoped>\n",
              "    .dataframe tbody tr th:only-of-type {\n",
              "        vertical-align: middle;\n",
              "    }\n",
              "\n",
              "    .dataframe tbody tr th {\n",
              "        vertical-align: top;\n",
              "    }\n",
              "\n",
              "    .dataframe thead th {\n",
              "        text-align: right;\n",
              "    }\n",
              "</style>\n",
              "<table border=\"1\" class=\"dataframe\">\n",
              "  <thead>\n",
              "    <tr style=\"text-align: right;\">\n",
              "      <th></th>\n",
              "      <th>record_id</th>\n",
              "      <th>utility_id_ferc1</th>\n",
              "      <th>report_year</th>\n",
              "      <th>plant_name_ferc1</th>\n",
              "      <th>fuel_type_code_pudl</th>\n",
              "      <th>fuel_unit</th>\n",
              "      <th>fuel_qty_burned</th>\n",
              "      <th>fuel_mmbtu_per_unit</th>\n",
              "      <th>fuel_cost_per_unit_burned</th>\n",
              "      <th>fuel_cost_per_unit_delivered</th>\n",
              "      <th>fuel_cost_per_mmbtu</th>\n",
              "    </tr>\n",
              "  </thead>\n",
              "  <tbody>\n",
              "    <tr>\n",
              "      <th>0</th>\n",
              "      <td>f1_fuel_1994_12_1_0_7</td>\n",
              "      <td>1</td>\n",
              "      <td>1994</td>\n",
              "      <td>rockport</td>\n",
              "      <td>coal</td>\n",
              "      <td>ton</td>\n",
              "      <td>5377489.0</td>\n",
              "      <td>16.590</td>\n",
              "      <td>18.59</td>\n",
              "      <td>18.53</td>\n",
              "      <td>1.121</td>\n",
              "    </tr>\n",
              "    <tr>\n",
              "      <th>1</th>\n",
              "      <td>f1_fuel_1994_12_1_0_10</td>\n",
              "      <td>1</td>\n",
              "      <td>1994</td>\n",
              "      <td>rockport total plant</td>\n",
              "      <td>coal</td>\n",
              "      <td>ton</td>\n",
              "      <td>10486945.0</td>\n",
              "      <td>16.592</td>\n",
              "      <td>18.58</td>\n",
              "      <td>18.53</td>\n",
              "      <td>1.120</td>\n",
              "    </tr>\n",
              "    <tr>\n",
              "      <th>2</th>\n",
              "      <td>f1_fuel_1994_12_2_0_1</td>\n",
              "      <td>2</td>\n",
              "      <td>1994</td>\n",
              "      <td>gorgas</td>\n",
              "      <td>coal</td>\n",
              "      <td>ton</td>\n",
              "      <td>2978683.0</td>\n",
              "      <td>24.130</td>\n",
              "      <td>39.72</td>\n",
              "      <td>38.12</td>\n",
              "      <td>1.650</td>\n",
              "    </tr>\n",
              "    <tr>\n",
              "      <th>3</th>\n",
              "      <td>f1_fuel_1994_12_2_0_7</td>\n",
              "      <td>2</td>\n",
              "      <td>1994</td>\n",
              "      <td>barry</td>\n",
              "      <td>coal</td>\n",
              "      <td>ton</td>\n",
              "      <td>3739484.0</td>\n",
              "      <td>23.950</td>\n",
              "      <td>47.21</td>\n",
              "      <td>45.99</td>\n",
              "      <td>1.970</td>\n",
              "    </tr>\n",
              "    <tr>\n",
              "      <th>4</th>\n",
              "      <td>f1_fuel_1994_12_2_0_10</td>\n",
              "      <td>2</td>\n",
              "      <td>1994</td>\n",
              "      <td>chickasaw</td>\n",
              "      <td>gas</td>\n",
              "      <td>mcf</td>\n",
              "      <td>40533.0</td>\n",
              "      <td>1.000</td>\n",
              "      <td>2.77</td>\n",
              "      <td>2.77</td>\n",
              "      <td>2.570</td>\n",
              "    </tr>\n",
              "    <tr>\n",
              "      <th>...</th>\n",
              "      <td>...</td>\n",
              "      <td>...</td>\n",
              "      <td>...</td>\n",
              "      <td>...</td>\n",
              "      <td>...</td>\n",
              "      <td>...</td>\n",
              "      <td>...</td>\n",
              "      <td>...</td>\n",
              "      <td>...</td>\n",
              "      <td>...</td>\n",
              "      <td>...</td>\n",
              "    </tr>\n",
              "    <tr>\n",
              "      <th>29518</th>\n",
              "      <td>f1_fuel_2018_12_12_0_13</td>\n",
              "      <td>12</td>\n",
              "      <td>2018</td>\n",
              "      <td>neil simpson ct #1</td>\n",
              "      <td>gas</td>\n",
              "      <td>mcf</td>\n",
              "      <td>18799.0</td>\n",
              "      <td>1.059</td>\n",
              "      <td>4.78</td>\n",
              "      <td>4.78</td>\n",
              "      <td>9.030</td>\n",
              "    </tr>\n",
              "    <tr>\n",
              "      <th>29519</th>\n",
              "      <td>f1_fuel_2018_12_12_1_1</td>\n",
              "      <td>12</td>\n",
              "      <td>2018</td>\n",
              "      <td>cheyenne prairie 58%</td>\n",
              "      <td>gas</td>\n",
              "      <td>mcf</td>\n",
              "      <td>806730.0</td>\n",
              "      <td>1.050</td>\n",
              "      <td>3.65</td>\n",
              "      <td>3.65</td>\n",
              "      <td>6.950</td>\n",
              "    </tr>\n",
              "    <tr>\n",
              "      <th>29520</th>\n",
              "      <td>f1_fuel_2018_12_12_1_10</td>\n",
              "      <td>12</td>\n",
              "      <td>2018</td>\n",
              "      <td>lange ct facility</td>\n",
              "      <td>gas</td>\n",
              "      <td>mcf</td>\n",
              "      <td>104554.0</td>\n",
              "      <td>1.060</td>\n",
              "      <td>4.77</td>\n",
              "      <td>4.77</td>\n",
              "      <td>8.990</td>\n",
              "    </tr>\n",
              "    <tr>\n",
              "      <th>29521</th>\n",
              "      <td>f1_fuel_2018_12_12_1_13</td>\n",
              "      <td>12</td>\n",
              "      <td>2018</td>\n",
              "      <td>wygen 3 bhp 52%</td>\n",
              "      <td>coal</td>\n",
              "      <td>ton</td>\n",
              "      <td>315945.0</td>\n",
              "      <td>16.108</td>\n",
              "      <td>3.06</td>\n",
              "      <td>14.76</td>\n",
              "      <td>1.110</td>\n",
              "    </tr>\n",
              "    <tr>\n",
              "      <th>29522</th>\n",
              "      <td>f1_fuel_2018_12_12_1_14</td>\n",
              "      <td>12</td>\n",
              "      <td>2018</td>\n",
              "      <td>wygen 3 bhp 52%</td>\n",
              "      <td>gas</td>\n",
              "      <td>mcf</td>\n",
              "      <td>17853.0</td>\n",
              "      <td>1.059</td>\n",
              "      <td>0.00</td>\n",
              "      <td>0.00</td>\n",
              "      <td>11.680</td>\n",
              "    </tr>\n",
              "  </tbody>\n",
              "</table>\n",
              "<p>29523 rows × 11 columns</p>\n",
              "</div>"
            ],
            "text/plain": [
              "                     record_id  ...  fuel_cost_per_mmbtu\n",
              "0        f1_fuel_1994_12_1_0_7  ...                1.121\n",
              "1       f1_fuel_1994_12_1_0_10  ...                1.120\n",
              "2        f1_fuel_1994_12_2_0_1  ...                1.650\n",
              "3        f1_fuel_1994_12_2_0_7  ...                1.970\n",
              "4       f1_fuel_1994_12_2_0_10  ...                2.570\n",
              "...                        ...  ...                  ...\n",
              "29518  f1_fuel_2018_12_12_0_13  ...                9.030\n",
              "29519   f1_fuel_2018_12_12_1_1  ...                6.950\n",
              "29520  f1_fuel_2018_12_12_1_10  ...                8.990\n",
              "29521  f1_fuel_2018_12_12_1_13  ...                1.110\n",
              "29522  f1_fuel_2018_12_12_1_14  ...               11.680\n",
              "\n",
              "[29523 rows x 11 columns]"
            ]
          },
          "metadata": {},
          "execution_count": 5
        }
      ]
    },
    {
      "cell_type": "code",
      "metadata": {
        "id": "XYO4icjnrEa5"
      },
      "source": [
        "#Question 3\n",
        "\n",
        "dfs= fuel_data.groupby('fuel_type_code_pudl').mean()"
      ],
      "execution_count": null,
      "outputs": []
    },
    {
      "cell_type": "code",
      "metadata": {
        "colab": {
          "base_uri": "https://localhost:8080/"
        },
        "id": "Sj5KO6ZHrTPt",
        "outputId": "a27cef0c-b609-44c3-ebb2-c22154cc80b6"
      },
      "source": [
        "dfs['fuel_cost_per_unit_burned']"
      ],
      "execution_count": null,
      "outputs": [
        {
          "output_type": "execute_result",
          "data": {
            "text/plain": [
              "fuel_type_code_pudl\n",
              "coal         67.421830\n",
              "gas          13.659397\n",
              "nuclear    4955.157002\n",
              "oil         168.877086\n",
              "other        18.253856\n",
              "waste        19.518122\n",
              "Name: fuel_cost_per_unit_burned, dtype: float64"
            ]
          },
          "metadata": {},
          "execution_count": 14
        }
      ]
    },
    {
      "cell_type": "code",
      "metadata": {
        "colab": {
          "base_uri": "https://localhost:8080/",
          "height": 297
        },
        "id": "CSjME6Tmp0i-",
        "outputId": "62dd3261-1ada-46e5-ce0b-6cf9599d08a7"
      },
      "source": [
        "fuel_data.describe()"
      ],
      "execution_count": null,
      "outputs": [
        {
          "output_type": "execute_result",
          "data": {
            "text/html": [
              "<div>\n",
              "<style scoped>\n",
              "    .dataframe tbody tr th:only-of-type {\n",
              "        vertical-align: middle;\n",
              "    }\n",
              "\n",
              "    .dataframe tbody tr th {\n",
              "        vertical-align: top;\n",
              "    }\n",
              "\n",
              "    .dataframe thead th {\n",
              "        text-align: right;\n",
              "    }\n",
              "</style>\n",
              "<table border=\"1\" class=\"dataframe\">\n",
              "  <thead>\n",
              "    <tr style=\"text-align: right;\">\n",
              "      <th></th>\n",
              "      <th>utility_id_ferc1</th>\n",
              "      <th>report_year</th>\n",
              "      <th>fuel_qty_burned</th>\n",
              "      <th>fuel_mmbtu_per_unit</th>\n",
              "      <th>fuel_cost_per_unit_burned</th>\n",
              "      <th>fuel_cost_per_unit_delivered</th>\n",
              "      <th>fuel_cost_per_mmbtu</th>\n",
              "    </tr>\n",
              "  </thead>\n",
              "  <tbody>\n",
              "    <tr>\n",
              "      <th>count</th>\n",
              "      <td>29523.000000</td>\n",
              "      <td>29523.000000</td>\n",
              "      <td>2.952300e+04</td>\n",
              "      <td>29523.000000</td>\n",
              "      <td>29523.000000</td>\n",
              "      <td>2.952300e+04</td>\n",
              "      <td>29523.000000</td>\n",
              "    </tr>\n",
              "    <tr>\n",
              "      <th>mean</th>\n",
              "      <td>118.601836</td>\n",
              "      <td>2005.806050</td>\n",
              "      <td>2.622119e+06</td>\n",
              "      <td>8.492111</td>\n",
              "      <td>208.649031</td>\n",
              "      <td>9.175704e+02</td>\n",
              "      <td>19.304354</td>\n",
              "    </tr>\n",
              "    <tr>\n",
              "      <th>std</th>\n",
              "      <td>74.178353</td>\n",
              "      <td>7.025483</td>\n",
              "      <td>9.118004e+06</td>\n",
              "      <td>10.600220</td>\n",
              "      <td>2854.490090</td>\n",
              "      <td>6.877593e+04</td>\n",
              "      <td>2091.540939</td>\n",
              "    </tr>\n",
              "    <tr>\n",
              "      <th>min</th>\n",
              "      <td>1.000000</td>\n",
              "      <td>1994.000000</td>\n",
              "      <td>1.000000e+00</td>\n",
              "      <td>0.000001</td>\n",
              "      <td>-276.080000</td>\n",
              "      <td>-8.749370e+02</td>\n",
              "      <td>-41.501000</td>\n",
              "    </tr>\n",
              "    <tr>\n",
              "      <th>25%</th>\n",
              "      <td>55.000000</td>\n",
              "      <td>2000.000000</td>\n",
              "      <td>1.381700e+04</td>\n",
              "      <td>1.024000</td>\n",
              "      <td>5.207000</td>\n",
              "      <td>3.778500e+00</td>\n",
              "      <td>1.940000</td>\n",
              "    </tr>\n",
              "    <tr>\n",
              "      <th>50%</th>\n",
              "      <td>122.000000</td>\n",
              "      <td>2006.000000</td>\n",
              "      <td>2.533220e+05</td>\n",
              "      <td>5.762694</td>\n",
              "      <td>26.000000</td>\n",
              "      <td>1.737100e+01</td>\n",
              "      <td>4.127000</td>\n",
              "    </tr>\n",
              "    <tr>\n",
              "      <th>75%</th>\n",
              "      <td>176.000000</td>\n",
              "      <td>2012.000000</td>\n",
              "      <td>1.424034e+06</td>\n",
              "      <td>17.006000</td>\n",
              "      <td>47.113000</td>\n",
              "      <td>4.213700e+01</td>\n",
              "      <td>7.745000</td>\n",
              "    </tr>\n",
              "    <tr>\n",
              "      <th>max</th>\n",
              "      <td>514.000000</td>\n",
              "      <td>2018.000000</td>\n",
              "      <td>5.558942e+08</td>\n",
              "      <td>341.260000</td>\n",
              "      <td>139358.000000</td>\n",
              "      <td>7.964521e+06</td>\n",
              "      <td>359278.000000</td>\n",
              "    </tr>\n",
              "  </tbody>\n",
              "</table>\n",
              "</div>"
            ],
            "text/plain": [
              "       utility_id_ferc1  ...  fuel_cost_per_mmbtu\n",
              "count      29523.000000  ...         29523.000000\n",
              "mean         118.601836  ...            19.304354\n",
              "std           74.178353  ...          2091.540939\n",
              "min            1.000000  ...           -41.501000\n",
              "25%           55.000000  ...             1.940000\n",
              "50%          122.000000  ...             4.127000\n",
              "75%          176.000000  ...             7.745000\n",
              "max          514.000000  ...        359278.000000\n",
              "\n",
              "[8 rows x 7 columns]"
            ]
          },
          "metadata": {},
          "execution_count": 6
        }
      ]
    },
    {
      "cell_type": "code",
      "metadata": {
        "colab": {
          "base_uri": "https://localhost:8080/"
        },
        "id": "Aa0Vono8rX84",
        "outputId": "eaf56910-e3d6-4eda-f5f8-338f75c91a8b"
      },
      "source": [
        "\n",
        "#Question 5\n",
        "fuel_data['fuel_qty_burned'].skew()"
      ],
      "execution_count": null,
      "outputs": [
        {
          "output_type": "execute_result",
          "data": {
            "text/plain": [
              "15.851495469109503"
            ]
          },
          "metadata": {},
          "execution_count": 15
        }
      ]
    },
    {
      "cell_type": "code",
      "metadata": {
        "colab": {
          "base_uri": "https://localhost:8080/"
        },
        "id": "pcNCoxCorfk5",
        "outputId": "02ace1cd-01e6-4a23-f876-dfb8e020c045"
      },
      "source": [
        "\n",
        "#Question 5\n",
        "fuel_data['fuel_qty_burned'].kurt()"
      ],
      "execution_count": null,
      "outputs": [
        {
          "output_type": "execute_result",
          "data": {
            "text/plain": [
              "651.3694501337732"
            ]
          },
          "metadata": {},
          "execution_count": 16
        }
      ]
    },
    {
      "cell_type": "code",
      "metadata": {
        "colab": {
          "base_uri": "https://localhost:8080/"
        },
        "id": "s9TMfYpqrl1y",
        "outputId": "3af2db21-3200-49ea-c42a-23805f25ad11"
      },
      "source": [
        "#Question 6\n",
        "#please find solution below\n",
        "\n",
        "fuel_data.isnull().sum()"
      ],
      "execution_count": null,
      "outputs": [
        {
          "output_type": "execute_result",
          "data": {
            "text/plain": [
              "record_id                         0\n",
              "utility_id_ferc1                  0\n",
              "report_year                       0\n",
              "plant_name_ferc1                  0\n",
              "fuel_type_code_pudl               0\n",
              "fuel_unit                       180\n",
              "fuel_qty_burned                   0\n",
              "fuel_mmbtu_per_unit               0\n",
              "fuel_cost_per_unit_burned         0\n",
              "fuel_cost_per_unit_delivered      0\n",
              "fuel_cost_per_mmbtu               0\n",
              "dtype: int64"
            ]
          },
          "metadata": {},
          "execution_count": 17
        }
      ]
    },
    {
      "cell_type": "code",
      "metadata": {
        "colab": {
          "base_uri": "https://localhost:8080/"
        },
        "id": "q7RyI1Wsro84",
        "outputId": "55ac70ac-cf17-4725-9519-eed9dcad7bbe"
      },
      "source": [
        "#To check the length of the dataframe\n",
        "\n",
        "len(fuel_data)"
      ],
      "execution_count": null,
      "outputs": [
        {
          "output_type": "execute_result",
          "data": {
            "text/plain": [
              "29523"
            ]
          },
          "metadata": {},
          "execution_count": 18
        }
      ]
    },
    {
      "cell_type": "code",
      "metadata": {
        "colab": {
          "base_uri": "https://localhost:8080/"
        },
        "id": "qXZ_Gafsrt6q",
        "outputId": "ac631992-7ebe-4b95-a381-e797305edc44"
      },
      "source": [
        "#To calculate teh percentage pf missing data\n",
        "\n",
        "round(((180/29523)*100),3)"
      ],
      "execution_count": null,
      "outputs": [
        {
          "output_type": "execute_result",
          "data": {
            "text/plain": [
              "0.61"
            ]
          },
          "metadata": {},
          "execution_count": 19
        }
      ]
    },
    {
      "cell_type": "code",
      "metadata": {
        "id": "QeChN54jr0mZ"
      },
      "source": [
        "#Question 7\n",
        "dfs = fuel_data.groupby('fuel_unit')"
      ],
      "execution_count": null,
      "outputs": []
    },
    {
      "cell_type": "code",
      "metadata": {
        "colab": {
          "base_uri": "https://localhost:8080/"
        },
        "id": "kSWcm6VOr4vb",
        "outputId": "db6bb95f-f894-4c74-fa87-d8a46bd189a3"
      },
      "source": [
        "dfs['fuel_unit'].count()"
      ],
      "execution_count": null,
      "outputs": [
        {
          "output_type": "execute_result",
          "data": {
            "text/plain": [
              "fuel_unit\n",
              "bbl        7998\n",
              "gal          84\n",
              "gramsU      464\n",
              "kgU         110\n",
              "mcf       11354\n",
              "mmbtu       180\n",
              "mwdth        95\n",
              "mwhth       100\n",
              "ton        8958\n",
              "Name: fuel_unit, dtype: int64"
            ]
          },
          "metadata": {},
          "execution_count": 21
        }
      ]
    },
    {
      "cell_type": "code",
      "metadata": {
        "id": "EflgnGvyr8eD"
      },
      "source": [
        "fuel_data['fuel_unit'].fillna(value='mcf', inplace=True)"
      ],
      "execution_count": null,
      "outputs": []
    },
    {
      "cell_type": "code",
      "metadata": {
        "colab": {
          "base_uri": "https://localhost:8080/"
        },
        "id": "otXOA-9KsBhz",
        "outputId": "fddd69be-41d6-4eb0-e504-800d9f2705ee"
      },
      "source": [
        "fuel_data.isnull().sum()"
      ],
      "execution_count": null,
      "outputs": [
        {
          "output_type": "execute_result",
          "data": {
            "text/plain": [
              "record_id                       0\n",
              "utility_id_ferc1                0\n",
              "report_year                     0\n",
              "plant_name_ferc1                0\n",
              "fuel_type_code_pudl             0\n",
              "fuel_unit                       0\n",
              "fuel_qty_burned                 0\n",
              "fuel_mmbtu_per_unit             0\n",
              "fuel_cost_per_unit_burned       0\n",
              "fuel_cost_per_unit_delivered    0\n",
              "fuel_cost_per_mmbtu             0\n",
              "dtype: int64"
            ]
          },
          "metadata": {},
          "execution_count": 23
        }
      ]
    },
    {
      "cell_type": "code",
      "metadata": {
        "colab": {
          "base_uri": "https://localhost:8080/"
        },
        "id": "iBN9QoUksJA8",
        "outputId": "36d5d261-cd82-4313-fe8f-c98cc4e2065d"
      },
      "source": [
        "\n",
        "#Question 8\n",
        "fuel_data.corr()['fuel_cost_per_unit_burned']"
      ],
      "execution_count": null,
      "outputs": [
        {
          "output_type": "execute_result",
          "data": {
            "text/plain": [
              "utility_id_ferc1               -0.037863\n",
              "report_year                     0.013599\n",
              "fuel_qty_burned                -0.018535\n",
              "fuel_mmbtu_per_unit            -0.010034\n",
              "fuel_cost_per_unit_burned       1.000000\n",
              "fuel_cost_per_unit_delivered    0.011007\n",
              "fuel_cost_per_mmbtu            -0.000437\n",
              "Name: fuel_cost_per_unit_burned, dtype: float64"
            ]
          },
          "metadata": {},
          "execution_count": 24
        }
      ]
    },
    {
      "cell_type": "code",
      "metadata": {
        "id": "fPsod_wmsL3h"
      },
      "source": [
        "#Question 9\n",
        "dfs= fuel_data.groupby('report_year').mean()"
      ],
      "execution_count": null,
      "outputs": []
    },
    {
      "cell_type": "code",
      "metadata": {
        "colab": {
          "base_uri": "https://localhost:8080/",
          "height": 855
        },
        "id": "ze-TurpYsQwT",
        "outputId": "89a1c3b5-e855-4a7f-e36e-90b5189a1554"
      },
      "source": [
        "dfs"
      ],
      "execution_count": null,
      "outputs": [
        {
          "output_type": "execute_result",
          "data": {
            "text/html": [
              "<div>\n",
              "<style scoped>\n",
              "    .dataframe tbody tr th:only-of-type {\n",
              "        vertical-align: middle;\n",
              "    }\n",
              "\n",
              "    .dataframe tbody tr th {\n",
              "        vertical-align: top;\n",
              "    }\n",
              "\n",
              "    .dataframe thead th {\n",
              "        text-align: right;\n",
              "    }\n",
              "</style>\n",
              "<table border=\"1\" class=\"dataframe\">\n",
              "  <thead>\n",
              "    <tr style=\"text-align: right;\">\n",
              "      <th></th>\n",
              "      <th>utility_id_ferc1</th>\n",
              "      <th>fuel_qty_burned</th>\n",
              "      <th>fuel_mmbtu_per_unit</th>\n",
              "      <th>fuel_cost_per_unit_burned</th>\n",
              "      <th>fuel_cost_per_unit_delivered</th>\n",
              "      <th>fuel_cost_per_mmbtu</th>\n",
              "    </tr>\n",
              "    <tr>\n",
              "      <th>report_year</th>\n",
              "      <th></th>\n",
              "      <th></th>\n",
              "      <th></th>\n",
              "      <th></th>\n",
              "      <th></th>\n",
              "      <th></th>\n",
              "    </tr>\n",
              "  </thead>\n",
              "  <tbody>\n",
              "    <tr>\n",
              "      <th>1994</th>\n",
              "      <td>106.120648</td>\n",
              "      <td>2.724018e+06</td>\n",
              "      <td>10.638098</td>\n",
              "      <td>213.191996</td>\n",
              "      <td>63.636060</td>\n",
              "      <td>3.086977</td>\n",
              "    </tr>\n",
              "    <tr>\n",
              "      <th>1995</th>\n",
              "      <td>110.139051</td>\n",
              "      <td>3.712067e+06</td>\n",
              "      <td>10.644830</td>\n",
              "      <td>354.422555</td>\n",
              "      <td>32.735269</td>\n",
              "      <td>2.868838</td>\n",
              "    </tr>\n",
              "    <tr>\n",
              "      <th>1996</th>\n",
              "      <td>108.714154</td>\n",
              "      <td>2.544754e+06</td>\n",
              "      <td>10.778041</td>\n",
              "      <td>79.434995</td>\n",
              "      <td>9196.705948</td>\n",
              "      <td>2.695880</td>\n",
              "    </tr>\n",
              "    <tr>\n",
              "      <th>1997</th>\n",
              "      <td>108.366545</td>\n",
              "      <td>2.813503e+06</td>\n",
              "      <td>10.247632</td>\n",
              "      <td>149.482132</td>\n",
              "      <td>11140.197239</td>\n",
              "      <td>3.113486</td>\n",
              "    </tr>\n",
              "    <tr>\n",
              "      <th>1998</th>\n",
              "      <td>109.845528</td>\n",
              "      <td>3.267453e+06</td>\n",
              "      <td>10.704964</td>\n",
              "      <td>126.683519</td>\n",
              "      <td>287.154420</td>\n",
              "      <td>2.775862</td>\n",
              "    </tr>\n",
              "    <tr>\n",
              "      <th>1999</th>\n",
              "      <td>108.222857</td>\n",
              "      <td>3.281281e+06</td>\n",
              "      <td>10.558885</td>\n",
              "      <td>120.053605</td>\n",
              "      <td>25.551627</td>\n",
              "      <td>2.740251</td>\n",
              "    </tr>\n",
              "    <tr>\n",
              "      <th>2000</th>\n",
              "      <td>111.083758</td>\n",
              "      <td>2.472032e+06</td>\n",
              "      <td>9.224475</td>\n",
              "      <td>237.797111</td>\n",
              "      <td>985.362877</td>\n",
              "      <td>4.208403</td>\n",
              "    </tr>\n",
              "    <tr>\n",
              "      <th>2001</th>\n",
              "      <td>113.521386</td>\n",
              "      <td>2.321402e+06</td>\n",
              "      <td>8.371469</td>\n",
              "      <td>133.013010</td>\n",
              "      <td>60.050396</td>\n",
              "      <td>4.612658</td>\n",
              "    </tr>\n",
              "    <tr>\n",
              "      <th>2002</th>\n",
              "      <td>120.354357</td>\n",
              "      <td>2.145645e+06</td>\n",
              "      <td>8.304833</td>\n",
              "      <td>101.179365</td>\n",
              "      <td>47.594361</td>\n",
              "      <td>6.226281</td>\n",
              "    </tr>\n",
              "    <tr>\n",
              "      <th>2003</th>\n",
              "      <td>123.300578</td>\n",
              "      <td>1.888622e+06</td>\n",
              "      <td>8.403746</td>\n",
              "      <td>123.183919</td>\n",
              "      <td>55.663493</td>\n",
              "      <td>7.223933</td>\n",
              "    </tr>\n",
              "    <tr>\n",
              "      <th>2004</th>\n",
              "      <td>121.123322</td>\n",
              "      <td>1.782547e+06</td>\n",
              "      <td>8.332425</td>\n",
              "      <td>154.897398</td>\n",
              "      <td>139.524275</td>\n",
              "      <td>8.441597</td>\n",
              "    </tr>\n",
              "    <tr>\n",
              "      <th>2005</th>\n",
              "      <td>121.028369</td>\n",
              "      <td>1.768876e+06</td>\n",
              "      <td>8.135972</td>\n",
              "      <td>107.111221</td>\n",
              "      <td>41.438184</td>\n",
              "      <td>9.397078</td>\n",
              "    </tr>\n",
              "    <tr>\n",
              "      <th>2006</th>\n",
              "      <td>117.178600</td>\n",
              "      <td>1.957264e+06</td>\n",
              "      <td>8.138090</td>\n",
              "      <td>151.361249</td>\n",
              "      <td>38.657484</td>\n",
              "      <td>10.339898</td>\n",
              "    </tr>\n",
              "    <tr>\n",
              "      <th>2007</th>\n",
              "      <td>116.040348</td>\n",
              "      <td>2.035696e+06</td>\n",
              "      <td>8.027581</td>\n",
              "      <td>202.622082</td>\n",
              "      <td>43.325023</td>\n",
              "      <td>10.735181</td>\n",
              "    </tr>\n",
              "    <tr>\n",
              "      <th>2008</th>\n",
              "      <td>120.785016</td>\n",
              "      <td>2.046455e+06</td>\n",
              "      <td>7.892854</td>\n",
              "      <td>255.954415</td>\n",
              "      <td>58.588197</td>\n",
              "      <td>12.690115</td>\n",
              "    </tr>\n",
              "    <tr>\n",
              "      <th>2009</th>\n",
              "      <td>118.139116</td>\n",
              "      <td>2.154993e+06</td>\n",
              "      <td>7.688192</td>\n",
              "      <td>215.699318</td>\n",
              "      <td>652.694163</td>\n",
              "      <td>10.619376</td>\n",
              "    </tr>\n",
              "    <tr>\n",
              "      <th>2010</th>\n",
              "      <td>117.992863</td>\n",
              "      <td>2.423720e+06</td>\n",
              "      <td>7.575013</td>\n",
              "      <td>262.951203</td>\n",
              "      <td>91.862105</td>\n",
              "      <td>8.551217</td>\n",
              "    </tr>\n",
              "    <tr>\n",
              "      <th>2011</th>\n",
              "      <td>121.069355</td>\n",
              "      <td>2.461332e+06</td>\n",
              "      <td>7.786182</td>\n",
              "      <td>301.754519</td>\n",
              "      <td>59.774667</td>\n",
              "      <td>9.237591</td>\n",
              "    </tr>\n",
              "    <tr>\n",
              "      <th>2012</th>\n",
              "      <td>120.769912</td>\n",
              "      <td>2.747094e+06</td>\n",
              "      <td>7.796063</td>\n",
              "      <td>258.804138</td>\n",
              "      <td>60.994502</td>\n",
              "      <td>8.808904</td>\n",
              "    </tr>\n",
              "    <tr>\n",
              "      <th>2013</th>\n",
              "      <td>122.082569</td>\n",
              "      <td>2.741505e+06</td>\n",
              "      <td>7.797024</td>\n",
              "      <td>255.991023</td>\n",
              "      <td>172.307591</td>\n",
              "      <td>9.308225</td>\n",
              "    </tr>\n",
              "    <tr>\n",
              "      <th>2014</th>\n",
              "      <td>129.263877</td>\n",
              "      <td>2.700008e+06</td>\n",
              "      <td>7.588334</td>\n",
              "      <td>442.359068</td>\n",
              "      <td>192.737183</td>\n",
              "      <td>10.064673</td>\n",
              "    </tr>\n",
              "    <tr>\n",
              "      <th>2015</th>\n",
              "      <td>128.591949</td>\n",
              "      <td>3.340131e+06</td>\n",
              "      <td>7.217820</td>\n",
              "      <td>237.933197</td>\n",
              "      <td>326.535511</td>\n",
              "      <td>8.054361</td>\n",
              "    </tr>\n",
              "    <tr>\n",
              "      <th>2016</th>\n",
              "      <td>133.117021</td>\n",
              "      <td>3.693289e+06</td>\n",
              "      <td>6.846478</td>\n",
              "      <td>247.083959</td>\n",
              "      <td>103.901761</td>\n",
              "      <td>6.915613</td>\n",
              "    </tr>\n",
              "    <tr>\n",
              "      <th>2017</th>\n",
              "      <td>131.126888</td>\n",
              "      <td>3.352850e+06</td>\n",
              "      <td>6.781353</td>\n",
              "      <td>246.281796</td>\n",
              "      <td>46.196861</td>\n",
              "      <td>368.736351</td>\n",
              "    </tr>\n",
              "    <tr>\n",
              "      <th>2018</th>\n",
              "      <td>133.669821</td>\n",
              "      <td>4.178890e+06</td>\n",
              "      <td>6.596546</td>\n",
              "      <td>232.992036</td>\n",
              "      <td>499.269966</td>\n",
              "      <td>7.233643</td>\n",
              "    </tr>\n",
              "  </tbody>\n",
              "</table>\n",
              "</div>"
            ],
            "text/plain": [
              "             utility_id_ferc1  ...  fuel_cost_per_mmbtu\n",
              "report_year                    ...                     \n",
              "1994               106.120648  ...             3.086977\n",
              "1995               110.139051  ...             2.868838\n",
              "1996               108.714154  ...             2.695880\n",
              "1997               108.366545  ...             3.113486\n",
              "1998               109.845528  ...             2.775862\n",
              "1999               108.222857  ...             2.740251\n",
              "2000               111.083758  ...             4.208403\n",
              "2001               113.521386  ...             4.612658\n",
              "2002               120.354357  ...             6.226281\n",
              "2003               123.300578  ...             7.223933\n",
              "2004               121.123322  ...             8.441597\n",
              "2005               121.028369  ...             9.397078\n",
              "2006               117.178600  ...            10.339898\n",
              "2007               116.040348  ...            10.735181\n",
              "2008               120.785016  ...            12.690115\n",
              "2009               118.139116  ...            10.619376\n",
              "2010               117.992863  ...             8.551217\n",
              "2011               121.069355  ...             9.237591\n",
              "2012               120.769912  ...             8.808904\n",
              "2013               122.082569  ...             9.308225\n",
              "2014               129.263877  ...            10.064673\n",
              "2015               128.591949  ...             8.054361\n",
              "2016               133.117021  ...             6.915613\n",
              "2017               131.126888  ...           368.736351\n",
              "2018               133.669821  ...             7.233643\n",
              "\n",
              "[25 rows x 6 columns]"
            ]
          },
          "metadata": {},
          "execution_count": 26
        }
      ]
    },
    {
      "cell_type": "code",
      "metadata": {
        "colab": {
          "base_uri": "https://localhost:8080/"
        },
        "id": "YmQGCAGqsXwX",
        "outputId": "5c646b4f-222d-4c37-830a-733e14c4e373"
      },
      "source": [
        "#Question 9\n",
        "\n",
        "((126.683519-213.191996)/213.191996)*100"
      ],
      "execution_count": null,
      "outputs": [
        {
          "output_type": "execute_result",
          "data": {
            "text/plain": [
              "-40.577732102100114"
            ]
          },
          "metadata": {},
          "execution_count": 27
        }
      ]
    },
    {
      "cell_type": "code",
      "metadata": {
        "colab": {
          "base_uri": "https://localhost:8080/",
          "height": 855
        },
        "id": "g8nCZLLxsbIX",
        "outputId": "0a9fef5d-e1b1-4781-8642-b45d3d41406e"
      },
      "source": [
        "\n",
        "#Question 10\n",
        "\n",
        "dfs"
      ],
      "execution_count": null,
      "outputs": [
        {
          "output_type": "execute_result",
          "data": {
            "text/html": [
              "<div>\n",
              "<style scoped>\n",
              "    .dataframe tbody tr th:only-of-type {\n",
              "        vertical-align: middle;\n",
              "    }\n",
              "\n",
              "    .dataframe tbody tr th {\n",
              "        vertical-align: top;\n",
              "    }\n",
              "\n",
              "    .dataframe thead th {\n",
              "        text-align: right;\n",
              "    }\n",
              "</style>\n",
              "<table border=\"1\" class=\"dataframe\">\n",
              "  <thead>\n",
              "    <tr style=\"text-align: right;\">\n",
              "      <th></th>\n",
              "      <th>utility_id_ferc1</th>\n",
              "      <th>fuel_qty_burned</th>\n",
              "      <th>fuel_mmbtu_per_unit</th>\n",
              "      <th>fuel_cost_per_unit_burned</th>\n",
              "      <th>fuel_cost_per_unit_delivered</th>\n",
              "      <th>fuel_cost_per_mmbtu</th>\n",
              "    </tr>\n",
              "    <tr>\n",
              "      <th>report_year</th>\n",
              "      <th></th>\n",
              "      <th></th>\n",
              "      <th></th>\n",
              "      <th></th>\n",
              "      <th></th>\n",
              "      <th></th>\n",
              "    </tr>\n",
              "  </thead>\n",
              "  <tbody>\n",
              "    <tr>\n",
              "      <th>1994</th>\n",
              "      <td>106.120648</td>\n",
              "      <td>2.724018e+06</td>\n",
              "      <td>10.638098</td>\n",
              "      <td>213.191996</td>\n",
              "      <td>63.636060</td>\n",
              "      <td>3.086977</td>\n",
              "    </tr>\n",
              "    <tr>\n",
              "      <th>1995</th>\n",
              "      <td>110.139051</td>\n",
              "      <td>3.712067e+06</td>\n",
              "      <td>10.644830</td>\n",
              "      <td>354.422555</td>\n",
              "      <td>32.735269</td>\n",
              "      <td>2.868838</td>\n",
              "    </tr>\n",
              "    <tr>\n",
              "      <th>1996</th>\n",
              "      <td>108.714154</td>\n",
              "      <td>2.544754e+06</td>\n",
              "      <td>10.778041</td>\n",
              "      <td>79.434995</td>\n",
              "      <td>9196.705948</td>\n",
              "      <td>2.695880</td>\n",
              "    </tr>\n",
              "    <tr>\n",
              "      <th>1997</th>\n",
              "      <td>108.366545</td>\n",
              "      <td>2.813503e+06</td>\n",
              "      <td>10.247632</td>\n",
              "      <td>149.482132</td>\n",
              "      <td>11140.197239</td>\n",
              "      <td>3.113486</td>\n",
              "    </tr>\n",
              "    <tr>\n",
              "      <th>1998</th>\n",
              "      <td>109.845528</td>\n",
              "      <td>3.267453e+06</td>\n",
              "      <td>10.704964</td>\n",
              "      <td>126.683519</td>\n",
              "      <td>287.154420</td>\n",
              "      <td>2.775862</td>\n",
              "    </tr>\n",
              "    <tr>\n",
              "      <th>1999</th>\n",
              "      <td>108.222857</td>\n",
              "      <td>3.281281e+06</td>\n",
              "      <td>10.558885</td>\n",
              "      <td>120.053605</td>\n",
              "      <td>25.551627</td>\n",
              "      <td>2.740251</td>\n",
              "    </tr>\n",
              "    <tr>\n",
              "      <th>2000</th>\n",
              "      <td>111.083758</td>\n",
              "      <td>2.472032e+06</td>\n",
              "      <td>9.224475</td>\n",
              "      <td>237.797111</td>\n",
              "      <td>985.362877</td>\n",
              "      <td>4.208403</td>\n",
              "    </tr>\n",
              "    <tr>\n",
              "      <th>2001</th>\n",
              "      <td>113.521386</td>\n",
              "      <td>2.321402e+06</td>\n",
              "      <td>8.371469</td>\n",
              "      <td>133.013010</td>\n",
              "      <td>60.050396</td>\n",
              "      <td>4.612658</td>\n",
              "    </tr>\n",
              "    <tr>\n",
              "      <th>2002</th>\n",
              "      <td>120.354357</td>\n",
              "      <td>2.145645e+06</td>\n",
              "      <td>8.304833</td>\n",
              "      <td>101.179365</td>\n",
              "      <td>47.594361</td>\n",
              "      <td>6.226281</td>\n",
              "    </tr>\n",
              "    <tr>\n",
              "      <th>2003</th>\n",
              "      <td>123.300578</td>\n",
              "      <td>1.888622e+06</td>\n",
              "      <td>8.403746</td>\n",
              "      <td>123.183919</td>\n",
              "      <td>55.663493</td>\n",
              "      <td>7.223933</td>\n",
              "    </tr>\n",
              "    <tr>\n",
              "      <th>2004</th>\n",
              "      <td>121.123322</td>\n",
              "      <td>1.782547e+06</td>\n",
              "      <td>8.332425</td>\n",
              "      <td>154.897398</td>\n",
              "      <td>139.524275</td>\n",
              "      <td>8.441597</td>\n",
              "    </tr>\n",
              "    <tr>\n",
              "      <th>2005</th>\n",
              "      <td>121.028369</td>\n",
              "      <td>1.768876e+06</td>\n",
              "      <td>8.135972</td>\n",
              "      <td>107.111221</td>\n",
              "      <td>41.438184</td>\n",
              "      <td>9.397078</td>\n",
              "    </tr>\n",
              "    <tr>\n",
              "      <th>2006</th>\n",
              "      <td>117.178600</td>\n",
              "      <td>1.957264e+06</td>\n",
              "      <td>8.138090</td>\n",
              "      <td>151.361249</td>\n",
              "      <td>38.657484</td>\n",
              "      <td>10.339898</td>\n",
              "    </tr>\n",
              "    <tr>\n",
              "      <th>2007</th>\n",
              "      <td>116.040348</td>\n",
              "      <td>2.035696e+06</td>\n",
              "      <td>8.027581</td>\n",
              "      <td>202.622082</td>\n",
              "      <td>43.325023</td>\n",
              "      <td>10.735181</td>\n",
              "    </tr>\n",
              "    <tr>\n",
              "      <th>2008</th>\n",
              "      <td>120.785016</td>\n",
              "      <td>2.046455e+06</td>\n",
              "      <td>7.892854</td>\n",
              "      <td>255.954415</td>\n",
              "      <td>58.588197</td>\n",
              "      <td>12.690115</td>\n",
              "    </tr>\n",
              "    <tr>\n",
              "      <th>2009</th>\n",
              "      <td>118.139116</td>\n",
              "      <td>2.154993e+06</td>\n",
              "      <td>7.688192</td>\n",
              "      <td>215.699318</td>\n",
              "      <td>652.694163</td>\n",
              "      <td>10.619376</td>\n",
              "    </tr>\n",
              "    <tr>\n",
              "      <th>2010</th>\n",
              "      <td>117.992863</td>\n",
              "      <td>2.423720e+06</td>\n",
              "      <td>7.575013</td>\n",
              "      <td>262.951203</td>\n",
              "      <td>91.862105</td>\n",
              "      <td>8.551217</td>\n",
              "    </tr>\n",
              "    <tr>\n",
              "      <th>2011</th>\n",
              "      <td>121.069355</td>\n",
              "      <td>2.461332e+06</td>\n",
              "      <td>7.786182</td>\n",
              "      <td>301.754519</td>\n",
              "      <td>59.774667</td>\n",
              "      <td>9.237591</td>\n",
              "    </tr>\n",
              "    <tr>\n",
              "      <th>2012</th>\n",
              "      <td>120.769912</td>\n",
              "      <td>2.747094e+06</td>\n",
              "      <td>7.796063</td>\n",
              "      <td>258.804138</td>\n",
              "      <td>60.994502</td>\n",
              "      <td>8.808904</td>\n",
              "    </tr>\n",
              "    <tr>\n",
              "      <th>2013</th>\n",
              "      <td>122.082569</td>\n",
              "      <td>2.741505e+06</td>\n",
              "      <td>7.797024</td>\n",
              "      <td>255.991023</td>\n",
              "      <td>172.307591</td>\n",
              "      <td>9.308225</td>\n",
              "    </tr>\n",
              "    <tr>\n",
              "      <th>2014</th>\n",
              "      <td>129.263877</td>\n",
              "      <td>2.700008e+06</td>\n",
              "      <td>7.588334</td>\n",
              "      <td>442.359068</td>\n",
              "      <td>192.737183</td>\n",
              "      <td>10.064673</td>\n",
              "    </tr>\n",
              "    <tr>\n",
              "      <th>2015</th>\n",
              "      <td>128.591949</td>\n",
              "      <td>3.340131e+06</td>\n",
              "      <td>7.217820</td>\n",
              "      <td>237.933197</td>\n",
              "      <td>326.535511</td>\n",
              "      <td>8.054361</td>\n",
              "    </tr>\n",
              "    <tr>\n",
              "      <th>2016</th>\n",
              "      <td>133.117021</td>\n",
              "      <td>3.693289e+06</td>\n",
              "      <td>6.846478</td>\n",
              "      <td>247.083959</td>\n",
              "      <td>103.901761</td>\n",
              "      <td>6.915613</td>\n",
              "    </tr>\n",
              "    <tr>\n",
              "      <th>2017</th>\n",
              "      <td>131.126888</td>\n",
              "      <td>3.352850e+06</td>\n",
              "      <td>6.781353</td>\n",
              "      <td>246.281796</td>\n",
              "      <td>46.196861</td>\n",
              "      <td>368.736351</td>\n",
              "    </tr>\n",
              "    <tr>\n",
              "      <th>2018</th>\n",
              "      <td>133.669821</td>\n",
              "      <td>4.178890e+06</td>\n",
              "      <td>6.596546</td>\n",
              "      <td>232.992036</td>\n",
              "      <td>499.269966</td>\n",
              "      <td>7.233643</td>\n",
              "    </tr>\n",
              "  </tbody>\n",
              "</table>\n",
              "</div>"
            ],
            "text/plain": [
              "             utility_id_ferc1  ...  fuel_cost_per_mmbtu\n",
              "report_year                    ...                     \n",
              "1994               106.120648  ...             3.086977\n",
              "1995               110.139051  ...             2.868838\n",
              "1996               108.714154  ...             2.695880\n",
              "1997               108.366545  ...             3.113486\n",
              "1998               109.845528  ...             2.775862\n",
              "1999               108.222857  ...             2.740251\n",
              "2000               111.083758  ...             4.208403\n",
              "2001               113.521386  ...             4.612658\n",
              "2002               120.354357  ...             6.226281\n",
              "2003               123.300578  ...             7.223933\n",
              "2004               121.123322  ...             8.441597\n",
              "2005               121.028369  ...             9.397078\n",
              "2006               117.178600  ...            10.339898\n",
              "2007               116.040348  ...            10.735181\n",
              "2008               120.785016  ...            12.690115\n",
              "2009               118.139116  ...            10.619376\n",
              "2010               117.992863  ...             8.551217\n",
              "2011               121.069355  ...             9.237591\n",
              "2012               120.769912  ...             8.808904\n",
              "2013               122.082569  ...             9.308225\n",
              "2014               129.263877  ...            10.064673\n",
              "2015               128.591949  ...             8.054361\n",
              "2016               133.117021  ...             6.915613\n",
              "2017               131.126888  ...           368.736351\n",
              "2018               133.669821  ...             7.233643\n",
              "\n",
              "[25 rows x 6 columns]"
            ]
          },
          "metadata": {},
          "execution_count": 28
        }
      ]
    },
    {
      "cell_type": "code",
      "metadata": {
        "colab": {
          "base_uri": "https://localhost:8080/"
        },
        "id": "M3sk6v8Zsfd_",
        "outputId": "46314034-2c5c-4531-a5ec-99eff8daf108"
      },
      "source": [
        "#Question 10\n",
        "\n",
        "dfs['fuel_cost_per_unit_delivered']"
      ],
      "execution_count": null,
      "outputs": [
        {
          "output_type": "execute_result",
          "data": {
            "text/plain": [
              "report_year\n",
              "1994       63.636060\n",
              "1995       32.735269\n",
              "1996     9196.705948\n",
              "1997    11140.197239\n",
              "1998      287.154420\n",
              "1999       25.551627\n",
              "2000      985.362877\n",
              "2001       60.050396\n",
              "2002       47.594361\n",
              "2003       55.663493\n",
              "2004      139.524275\n",
              "2005       41.438184\n",
              "2006       38.657484\n",
              "2007       43.325023\n",
              "2008       58.588197\n",
              "2009      652.694163\n",
              "2010       91.862105\n",
              "2011       59.774667\n",
              "2012       60.994502\n",
              "2013      172.307591\n",
              "2014      192.737183\n",
              "2015      326.535511\n",
              "2016      103.901761\n",
              "2017       46.196861\n",
              "2018      499.269966\n",
              "Name: fuel_cost_per_unit_delivered, dtype: float64"
            ]
          },
          "metadata": {},
          "execution_count": 29
        }
      ]
    }
  ]
}